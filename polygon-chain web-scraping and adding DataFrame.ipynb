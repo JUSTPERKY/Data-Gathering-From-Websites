{
 "cells": [
  {
   "cell_type": "code",
   "execution_count": 57,
   "id": "43f72c90",
   "metadata": {},
   "outputs": [],
   "source": [
    "with open ('cmcpolygon.html','r',encoding='utf-8') as f:\n",
    "    html = f.read()"
   ]
  },
  {
   "cell_type": "code",
   "execution_count": 58,
   "id": "879b6bb7",
   "metadata": {},
   "outputs": [],
   "source": [
    "from bs4 import BeautifulSoup\n",
    "#Import Beautiful Soup for Webscraping"
   ]
  },
  {
   "cell_type": "code",
   "execution_count": 59,
   "id": "86f48a83",
   "metadata": {},
   "outputs": [],
   "source": [
    "soup = BeautifulSoup(html,'lxml')"
   ]
  },
  {
   "cell_type": "code",
   "execution_count": 79,
   "id": "7a58d478",
   "metadata": {},
   "outputs": [
    {
     "name": "stdout",
     "output_type": "stream",
     "text": [
      "['Feb 01, 2023', '$1.11', '$1.20', '$1.07', '$1.19', '$641,029,088', '$10,437,224,559']\n"
     ]
    }
   ],
   "source": [
    "data = []\n",
    "# The whole historical data is saved in form of table so we need to find table\n",
    "table = soup.find('table')\n",
    "for i in table.find_all('tr'):\n",
    "    #Findind 'td' where every detail from date to Marketcap is stored\n",
    "    cells = i.findChildren('td')\n",
    "    values = []\n",
    "    for cell in cells:\n",
    "        value=cell.string\n",
    "        values.append(value)\n",
    "    try:\n",
    "        # Add every index of the values so that the data shown in below output\n",
    "        Date = values[0]\n",
    "        Open = values[1]\n",
    "        High = values[2]\n",
    "        Low =  values[3]\n",
    "        Close = values[4]\n",
    "        Volume = values[5]\n",
    "        MarketCap = values[6]\n",
    "    except IndexError:\n",
    "        continue\n",
    "        #Append the Data\n",
    "    data.append([Date, Open, High, Low, Close, Volume, MarketCap])\n",
    "        # Print data\n",
    "\n",
    "print(data[0])\n",
    "\n",
    "#The Data is retrieved in a list format"
   ]
  },
  {
   "cell_type": "code",
   "execution_count": 75,
   "id": "1df7d599",
   "metadata": {},
   "outputs": [],
   "source": [
    "import pandas as pd\n",
    "#For Dataframe import pandas library"
   ]
  },
  {
   "cell_type": "code",
   "execution_count": 76,
   "id": "9285fe2e",
   "metadata": {},
   "outputs": [],
   "source": [
    "df = pd.DataFrame(data,columns=['Date','Open','High','Low','Close','Volume','Marketcap'])"
   ]
  },
  {
   "cell_type": "code",
   "execution_count": 77,
   "id": "c46df430",
   "metadata": {},
   "outputs": [
    {
     "data": {
      "text/html": [
       "<div>\n",
       "<style scoped>\n",
       "    .dataframe tbody tr th:only-of-type {\n",
       "        vertical-align: middle;\n",
       "    }\n",
       "\n",
       "    .dataframe tbody tr th {\n",
       "        vertical-align: top;\n",
       "    }\n",
       "\n",
       "    .dataframe thead th {\n",
       "        text-align: right;\n",
       "    }\n",
       "</style>\n",
       "<table border=\"1\" class=\"dataframe\">\n",
       "  <thead>\n",
       "    <tr style=\"text-align: right;\">\n",
       "      <th></th>\n",
       "      <th>Date</th>\n",
       "      <th>Open</th>\n",
       "      <th>High</th>\n",
       "      <th>Low</th>\n",
       "      <th>Close</th>\n",
       "      <th>Volume</th>\n",
       "      <th>Marketcap</th>\n",
       "    </tr>\n",
       "  </thead>\n",
       "  <tbody>\n",
       "    <tr>\n",
       "      <th>0</th>\n",
       "      <td>Feb 01, 2023</td>\n",
       "      <td>$1.11</td>\n",
       "      <td>$1.20</td>\n",
       "      <td>$1.07</td>\n",
       "      <td>$1.19</td>\n",
       "      <td>$641,029,088</td>\n",
       "      <td>$10,437,224,559</td>\n",
       "    </tr>\n",
       "    <tr>\n",
       "      <th>1</th>\n",
       "      <td>Jan 31, 2023</td>\n",
       "      <td>$1.09</td>\n",
       "      <td>$1.12</td>\n",
       "      <td>$1.08</td>\n",
       "      <td>$1.11</td>\n",
       "      <td>$418,321,993</td>\n",
       "      <td>$9,706,731,332</td>\n",
       "    </tr>\n",
       "    <tr>\n",
       "      <th>2</th>\n",
       "      <td>Jan 30, 2023</td>\n",
       "      <td>$1.18</td>\n",
       "      <td>$1.18</td>\n",
       "      <td>$1.07</td>\n",
       "      <td>$1.09</td>\n",
       "      <td>$602,563,770</td>\n",
       "      <td>$9,496,253,311</td>\n",
       "    </tr>\n",
       "    <tr>\n",
       "      <th>3</th>\n",
       "      <td>Jan 29, 2023</td>\n",
       "      <td>$1.14</td>\n",
       "      <td>$1.20</td>\n",
       "      <td>$1.13</td>\n",
       "      <td>$1.18</td>\n",
       "      <td>$629,748,131</td>\n",
       "      <td>$10,287,973,681</td>\n",
       "    </tr>\n",
       "    <tr>\n",
       "      <th>4</th>\n",
       "      <td>Jan 28, 2023</td>\n",
       "      <td>$1.16</td>\n",
       "      <td>$1.17</td>\n",
       "      <td>$1.10</td>\n",
       "      <td>$1.14</td>\n",
       "      <td>$624,675,428</td>\n",
       "      <td>$9,994,082,204</td>\n",
       "    </tr>\n",
       "  </tbody>\n",
       "</table>\n",
       "</div>"
      ],
      "text/plain": [
       "           Date   Open   High    Low  Close        Volume        Marketcap\n",
       "0  Feb 01, 2023  $1.11  $1.20  $1.07  $1.19  $641,029,088  $10,437,224,559\n",
       "1  Jan 31, 2023  $1.09  $1.12  $1.08  $1.11  $418,321,993   $9,706,731,332\n",
       "2  Jan 30, 2023  $1.18  $1.18  $1.07  $1.09  $602,563,770   $9,496,253,311\n",
       "3  Jan 29, 2023  $1.14  $1.20  $1.13  $1.18  $629,748,131  $10,287,973,681\n",
       "4  Jan 28, 2023  $1.16  $1.17  $1.10  $1.14  $624,675,428   $9,994,082,204"
      ]
     },
     "execution_count": 77,
     "metadata": {},
     "output_type": "execute_result"
    }
   ],
   "source": [
    "df.head()"
   ]
  },
  {
   "cell_type": "code",
   "execution_count": 52,
   "id": "9c9d9e7f",
   "metadata": {},
   "outputs": [],
   "source": [
    "df.to_csv('polygon.csv',index=False)\n",
    "#To save csv file for uploading or further analysis\n"
   ]
  }
 ],
 "metadata": {
  "kernelspec": {
   "display_name": "Python 3 (ipykernel)",
   "language": "python",
   "name": "python3"
  },
  "language_info": {
   "codemirror_mode": {
    "name": "ipython",
    "version": 3
   },
   "file_extension": ".py",
   "mimetype": "text/x-python",
   "name": "python",
   "nbconvert_exporter": "python",
   "pygments_lexer": "ipython3",
   "version": "3.10.8"
  }
 },
 "nbformat": 4,
 "nbformat_minor": 5
}

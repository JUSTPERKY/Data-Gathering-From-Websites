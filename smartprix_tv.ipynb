{
 "cells": [
  {
   "cell_type": "code",
   "execution_count": 29,
   "id": "687d5d97",
   "metadata": {},
   "outputs": [],
   "source": [
    "import numpy as np\n",
    "import pandas as pd\n",
    "from bs4 import BeautifulSoup"
   ]
  },
  {
   "cell_type": "code",
   "execution_count": 2,
   "id": "d68d9112",
   "metadata": {},
   "outputs": [],
   "source": [
    "with open('smartprixtv.html','r',encoding='utf-8') as f:\n",
    "  html = f.read()"
   ]
  },
  {
   "cell_type": "code",
   "execution_count": 3,
   "id": "3ce647c6",
   "metadata": {},
   "outputs": [],
   "source": [
    "soup = BeautifulSoup(html,'html.parser')"
   ]
  },
  {
   "cell_type": "code",
   "execution_count": 4,
   "id": "0ddd406f",
   "metadata": {
    "scrolled": false
   },
   "outputs": [],
   "source": [
    "containers = soup.find_all('div',{'class':'sm-product has-tag has-features has-actions'})"
   ]
  },
  {
   "cell_type": "code",
   "execution_count": 5,
   "id": "a0abc337",
   "metadata": {},
   "outputs": [
    {
     "data": {
      "text/plain": [
       "1020"
      ]
     },
     "execution_count": 5,
     "metadata": {},
     "output_type": "execute_result"
    }
   ],
   "source": [
    "len(containers)"
   ]
  },
  {
   "cell_type": "code",
   "execution_count": 6,
   "id": "eaf56262",
   "metadata": {},
   "outputs": [],
   "source": [
    "name = []\n",
    "price = []\n",
    "spec_score = []\n"
   ]
  },
  {
   "cell_type": "code",
   "execution_count": 7,
   "id": "1d282a27",
   "metadata": {},
   "outputs": [],
   "source": [
    "for i in containers:\n",
    "    name.append(i.find('h2').text.strip())\n",
    "    price.append(i.find('span',{'class':'price'}).text.strip())\n",
    "    "
   ]
  },
  {
   "cell_type": "code",
   "execution_count": 8,
   "id": "953456bb",
   "metadata": {},
   "outputs": [],
   "source": [
    "\n",
    "for i in soup.find_all(attrs={'class':['score rank-1-bg','score rank-2-bg','score rank-3-bg','score rank-4-bg']}):\n",
    "    spec_score.append(i.find('b').text.strip())"
   ]
  },
  {
   "cell_type": "code",
   "execution_count": 9,
   "id": "e89776d9",
   "metadata": {},
   "outputs": [
    {
     "data": {
      "text/plain": [
       "1020"
      ]
     },
     "execution_count": 9,
     "metadata": {},
     "output_type": "execute_result"
    }
   ],
   "source": [
    "len(name)"
   ]
  },
  {
   "cell_type": "code",
   "execution_count": 31,
   "id": "0bd5e9c4",
   "metadata": {},
   "outputs": [],
   "source": [
    "display_inches = []\n",
    "pixel_resolution = []\n",
    "network_connection = []\n",
    "smart_tv = []\n",
    "speakers = []\n",
    "processor = []\n",
    "\n"
   ]
  },
  {
   "cell_type": "code",
   "execution_count": 32,
   "id": "6f3d9aef",
   "metadata": {},
   "outputs": [],
   "source": [
    "for i in soup.find_all('ul',{'class':'sm-feat specs'}):\n",
    "    try:\n",
    "        display_inches.append(i.find_all('li')[0].text.strip())\n",
    "    except:\n",
    "        display_inches.append(np.nan)\n",
    "    try:\n",
    "        pixel_resolution.append(i.find_all('li')[1].text.strip())\n",
    "    except:\n",
    "        pixel_resolution.append(np.nan)\n",
    "    try:\n",
    "        network_connection.append(i.find_all('li')[2].text.strip())\n",
    "    except:\n",
    "        network_connection.append(np.nan)\n",
    "    try:\n",
    "        smart_tv.append(i.find_all('li')[3].text.strip())\n",
    "    except:\n",
    "        smart_tv.append(np.nan)\n",
    "    try:\n",
    "        speakers.append(i.find_all('li')[4].text.strip())\n",
    "    except:\n",
    "        speakers.append(np.nan)\n",
    "    try:\n",
    "        processor.append(i.find_all('li')[5].text.strip())\n",
    "    except:\n",
    "        processor.append(np.nan)\n",
    "        "
   ]
  },
  {
   "cell_type": "code",
   "execution_count": 36,
   "id": "5a22a230",
   "metadata": {},
   "outputs": [],
   "source": [
    "smart_tvs_df = pd.DataFrame(\n",
    "{\n",
    "    'name':name,\n",
    "    'price':price,\n",
    "    'spec_score':spec_score,\n",
    "    'display_inches':display_inches,\n",
    "    'pixel_resolution':pixel_resolution,\n",
    "    'network_connection':network_connection,\n",
    "    'smart_tv':smart_tv,\n",
    "    'speakers':speakers,\n",
    "    'processor':processor\n",
    "})\n"
   ]
  },
  {
   "cell_type": "code",
   "execution_count": 37,
   "id": "6a83b3d1",
   "metadata": {},
   "outputs": [
    {
     "data": {
      "text/html": [
       "<div>\n",
       "<style scoped>\n",
       "    .dataframe tbody tr th:only-of-type {\n",
       "        vertical-align: middle;\n",
       "    }\n",
       "\n",
       "    .dataframe tbody tr th {\n",
       "        vertical-align: top;\n",
       "    }\n",
       "\n",
       "    .dataframe thead th {\n",
       "        text-align: right;\n",
       "    }\n",
       "</style>\n",
       "<table border=\"1\" class=\"dataframe\">\n",
       "  <thead>\n",
       "    <tr style=\"text-align: right;\">\n",
       "      <th></th>\n",
       "      <th>name</th>\n",
       "      <th>price</th>\n",
       "      <th>spec_score</th>\n",
       "      <th>display_inches</th>\n",
       "      <th>pixel_resolution</th>\n",
       "      <th>network_connection</th>\n",
       "      <th>smart_tv</th>\n",
       "      <th>speakers</th>\n",
       "      <th>processor</th>\n",
       "    </tr>\n",
       "  </thead>\n",
       "  <tbody>\n",
       "    <tr>\n",
       "      <th>0</th>\n",
       "      <td>OnePlus Q2 Pro 65 inch Smart QLED TV</td>\n",
       "      <td>₹65,999</td>\n",
       "      <td>83</td>\n",
       "      <td>65 in, QLED TV</td>\n",
       "      <td>4K Resolution, 3840 x 2160 pixels</td>\n",
       "      <td>Wifi, Ethernet</td>\n",
       "      <td>Smart TV</td>\n",
       "      <td>70 w Output</td>\n",
       "      <td>3 GB RAM, 32 GB Storage</td>\n",
       "    </tr>\n",
       "    <tr>\n",
       "      <th>1</th>\n",
       "      <td>Samsung UA43AU7600KXXL 43 inch Ultra HD 4K Sma...</td>\n",
       "      <td>₹33,490</td>\n",
       "      <td>64</td>\n",
       "      <td>43 in, LED TV</td>\n",
       "      <td>4K Resolution, 3840 x 2160 pixels</td>\n",
       "      <td>Wifi</td>\n",
       "      <td>Smart TV</td>\n",
       "      <td>2 Speakers, 20 w Output</td>\n",
       "      <td>Crystal Processor 4K Processor</td>\n",
       "    </tr>\n",
       "    <tr>\n",
       "      <th>2</th>\n",
       "      <td>Xiaomi Smart TV 5A 32 inch HD Ready Smart LED TV</td>\n",
       "      <td>₹13,999</td>\n",
       "      <td>49</td>\n",
       "      <td>32 in, LED TV</td>\n",
       "      <td>1366 x 768 pixels</td>\n",
       "      <td>Wifi, Ethernet</td>\n",
       "      <td>Smart TV</td>\n",
       "      <td>2 Speakers, 20 w Output</td>\n",
       "      <td>Cortex A35 64-bit Quad Core Processor, 1 GB RA...</td>\n",
       "    </tr>\n",
       "    <tr>\n",
       "      <th>3</th>\n",
       "      <td>Sansui JSW55GSQLED 55 inch Ultra HD 4K Smart Q...</td>\n",
       "      <td>₹36,990</td>\n",
       "      <td>74</td>\n",
       "      <td>55 in, QLED TV</td>\n",
       "      <td>4K Resolution, 3840 x 2160 pixels</td>\n",
       "      <td>Wifi, Ethernet</td>\n",
       "      <td>Smart TV</td>\n",
       "      <td>2 Speakers, 20 w Output</td>\n",
       "      <td>CA53 Processor, 2 GB RAM, 16 GB Storage</td>\n",
       "    </tr>\n",
       "    <tr>\n",
       "      <th>4</th>\n",
       "      <td>Sony Bravia KD-43X75K 43-inch Ultra HD 4K Smar...</td>\n",
       "      <td>₹46,540</td>\n",
       "      <td>64</td>\n",
       "      <td>43 in, LED TV</td>\n",
       "      <td>4K Resolution, 3840 x 2160 pixels</td>\n",
       "      <td>Wifi, Ethernet</td>\n",
       "      <td>Smart TV</td>\n",
       "      <td>2 Speakers, 20 w Output</td>\n",
       "      <td>‎X1 4K Processor Processor</td>\n",
       "    </tr>\n",
       "  </tbody>\n",
       "</table>\n",
       "</div>"
      ],
      "text/plain": [
       "                                                name    price spec_score  \\\n",
       "0               OnePlus Q2 Pro 65 inch Smart QLED TV  ₹65,999         83   \n",
       "1  Samsung UA43AU7600KXXL 43 inch Ultra HD 4K Sma...  ₹33,490         64   \n",
       "2   Xiaomi Smart TV 5A 32 inch HD Ready Smart LED TV  ₹13,999         49   \n",
       "3  Sansui JSW55GSQLED 55 inch Ultra HD 4K Smart Q...  ₹36,990         74   \n",
       "4  Sony Bravia KD-43X75K 43-inch Ultra HD 4K Smar...  ₹46,540         64   \n",
       "\n",
       "   display_inches                   pixel_resolution network_connection  \\\n",
       "0  65 in, QLED TV  4K Resolution, 3840 x 2160 pixels     Wifi, Ethernet   \n",
       "1   43 in, LED TV  4K Resolution, 3840 x 2160 pixels               Wifi   \n",
       "2   32 in, LED TV                  1366 x 768 pixels     Wifi, Ethernet   \n",
       "3  55 in, QLED TV  4K Resolution, 3840 x 2160 pixels     Wifi, Ethernet   \n",
       "4   43 in, LED TV  4K Resolution, 3840 x 2160 pixels     Wifi, Ethernet   \n",
       "\n",
       "   smart_tv                 speakers  \\\n",
       "0  Smart TV              70 w Output   \n",
       "1  Smart TV  2 Speakers, 20 w Output   \n",
       "2  Smart TV  2 Speakers, 20 w Output   \n",
       "3  Smart TV  2 Speakers, 20 w Output   \n",
       "4  Smart TV  2 Speakers, 20 w Output   \n",
       "\n",
       "                                           processor  \n",
       "0                            3 GB RAM, 32 GB Storage  \n",
       "1                     Crystal Processor 4K Processor  \n",
       "2  Cortex A35 64-bit Quad Core Processor, 1 GB RA...  \n",
       "3            CA53 Processor, 2 GB RAM, 16 GB Storage  \n",
       "4                         ‎X1 4K Processor Processor  "
      ]
     },
     "execution_count": 37,
     "metadata": {},
     "output_type": "execute_result"
    }
   ],
   "source": [
    "smart_tvs_df.head()"
   ]
  },
  {
   "cell_type": "code",
   "execution_count": 41,
   "id": "a6f08999",
   "metadata": {},
   "outputs": [],
   "source": [
    "smart_tvs_df.to_csv('Smart_TV_DataFrame.csv',index=False)"
   ]
  },
  {
   "cell_type": "code",
   "execution_count": 44,
   "id": "3482174d",
   "metadata": {},
   "outputs": [],
   "source": [
    "df = smart_tvs_df.copy()"
   ]
  },
  {
   "cell_type": "code",
   "execution_count": 45,
   "id": "b480e586",
   "metadata": {},
   "outputs": [
    {
     "data": {
      "text/html": [
       "<div>\n",
       "<style scoped>\n",
       "    .dataframe tbody tr th:only-of-type {\n",
       "        vertical-align: middle;\n",
       "    }\n",
       "\n",
       "    .dataframe tbody tr th {\n",
       "        vertical-align: top;\n",
       "    }\n",
       "\n",
       "    .dataframe thead th {\n",
       "        text-align: right;\n",
       "    }\n",
       "</style>\n",
       "<table border=\"1\" class=\"dataframe\">\n",
       "  <thead>\n",
       "    <tr style=\"text-align: right;\">\n",
       "      <th></th>\n",
       "      <th>name</th>\n",
       "      <th>price</th>\n",
       "      <th>spec_score</th>\n",
       "      <th>display_inches</th>\n",
       "      <th>pixel_resolution</th>\n",
       "      <th>network_connection</th>\n",
       "      <th>smart_tv</th>\n",
       "      <th>speakers</th>\n",
       "      <th>processor</th>\n",
       "    </tr>\n",
       "  </thead>\n",
       "  <tbody>\n",
       "    <tr>\n",
       "      <th>0</th>\n",
       "      <td>OnePlus Q2 Pro 65 inch Smart QLED TV</td>\n",
       "      <td>₹65,999</td>\n",
       "      <td>83</td>\n",
       "      <td>65 in, QLED TV</td>\n",
       "      <td>4K Resolution, 3840 x 2160 pixels</td>\n",
       "      <td>Wifi, Ethernet</td>\n",
       "      <td>Smart TV</td>\n",
       "      <td>70 w Output</td>\n",
       "      <td>3 GB RAM, 32 GB Storage</td>\n",
       "    </tr>\n",
       "    <tr>\n",
       "      <th>1</th>\n",
       "      <td>Samsung UA43AU7600KXXL 43 inch Ultra HD 4K Sma...</td>\n",
       "      <td>₹33,490</td>\n",
       "      <td>64</td>\n",
       "      <td>43 in, LED TV</td>\n",
       "      <td>4K Resolution, 3840 x 2160 pixels</td>\n",
       "      <td>Wifi</td>\n",
       "      <td>Smart TV</td>\n",
       "      <td>2 Speakers, 20 w Output</td>\n",
       "      <td>Crystal Processor 4K Processor</td>\n",
       "    </tr>\n",
       "    <tr>\n",
       "      <th>2</th>\n",
       "      <td>Xiaomi Smart TV 5A 32 inch HD Ready Smart LED TV</td>\n",
       "      <td>₹13,999</td>\n",
       "      <td>49</td>\n",
       "      <td>32 in, LED TV</td>\n",
       "      <td>1366 x 768 pixels</td>\n",
       "      <td>Wifi, Ethernet</td>\n",
       "      <td>Smart TV</td>\n",
       "      <td>2 Speakers, 20 w Output</td>\n",
       "      <td>Cortex A35 64-bit Quad Core Processor, 1 GB RA...</td>\n",
       "    </tr>\n",
       "    <tr>\n",
       "      <th>3</th>\n",
       "      <td>Sansui JSW55GSQLED 55 inch Ultra HD 4K Smart Q...</td>\n",
       "      <td>₹36,990</td>\n",
       "      <td>74</td>\n",
       "      <td>55 in, QLED TV</td>\n",
       "      <td>4K Resolution, 3840 x 2160 pixels</td>\n",
       "      <td>Wifi, Ethernet</td>\n",
       "      <td>Smart TV</td>\n",
       "      <td>2 Speakers, 20 w Output</td>\n",
       "      <td>CA53 Processor, 2 GB RAM, 16 GB Storage</td>\n",
       "    </tr>\n",
       "    <tr>\n",
       "      <th>4</th>\n",
       "      <td>Sony Bravia KD-43X75K 43-inch Ultra HD 4K Smar...</td>\n",
       "      <td>₹46,540</td>\n",
       "      <td>64</td>\n",
       "      <td>43 in, LED TV</td>\n",
       "      <td>4K Resolution, 3840 x 2160 pixels</td>\n",
       "      <td>Wifi, Ethernet</td>\n",
       "      <td>Smart TV</td>\n",
       "      <td>2 Speakers, 20 w Output</td>\n",
       "      <td>‎X1 4K Processor Processor</td>\n",
       "    </tr>\n",
       "  </tbody>\n",
       "</table>\n",
       "</div>"
      ],
      "text/plain": [
       "                                                name    price spec_score  \\\n",
       "0               OnePlus Q2 Pro 65 inch Smart QLED TV  ₹65,999         83   \n",
       "1  Samsung UA43AU7600KXXL 43 inch Ultra HD 4K Sma...  ₹33,490         64   \n",
       "2   Xiaomi Smart TV 5A 32 inch HD Ready Smart LED TV  ₹13,999         49   \n",
       "3  Sansui JSW55GSQLED 55 inch Ultra HD 4K Smart Q...  ₹36,990         74   \n",
       "4  Sony Bravia KD-43X75K 43-inch Ultra HD 4K Smar...  ₹46,540         64   \n",
       "\n",
       "   display_inches                   pixel_resolution network_connection  \\\n",
       "0  65 in, QLED TV  4K Resolution, 3840 x 2160 pixels     Wifi, Ethernet   \n",
       "1   43 in, LED TV  4K Resolution, 3840 x 2160 pixels               Wifi   \n",
       "2   32 in, LED TV                  1366 x 768 pixels     Wifi, Ethernet   \n",
       "3  55 in, QLED TV  4K Resolution, 3840 x 2160 pixels     Wifi, Ethernet   \n",
       "4   43 in, LED TV  4K Resolution, 3840 x 2160 pixels     Wifi, Ethernet   \n",
       "\n",
       "   smart_tv                 speakers  \\\n",
       "0  Smart TV              70 w Output   \n",
       "1  Smart TV  2 Speakers, 20 w Output   \n",
       "2  Smart TV  2 Speakers, 20 w Output   \n",
       "3  Smart TV  2 Speakers, 20 w Output   \n",
       "4  Smart TV  2 Speakers, 20 w Output   \n",
       "\n",
       "                                           processor  \n",
       "0                            3 GB RAM, 32 GB Storage  \n",
       "1                     Crystal Processor 4K Processor  \n",
       "2  Cortex A35 64-bit Quad Core Processor, 1 GB RA...  \n",
       "3            CA53 Processor, 2 GB RAM, 16 GB Storage  \n",
       "4                         ‎X1 4K Processor Processor  "
      ]
     },
     "execution_count": 45,
     "metadata": {},
     "output_type": "execute_result"
    }
   ],
   "source": [
    "df.head()"
   ]
  },
  {
   "cell_type": "code",
   "execution_count": null,
   "id": "1c3c05e1",
   "metadata": {},
   "outputs": [],
   "source": []
  }
 ],
 "metadata": {
  "kernelspec": {
   "display_name": "Python 3 (ipykernel)",
   "language": "python",
   "name": "python3"
  },
  "language_info": {
   "codemirror_mode": {
    "name": "ipython",
    "version": 3
   },
   "file_extension": ".py",
   "mimetype": "text/x-python",
   "name": "python",
   "nbconvert_exporter": "python",
   "pygments_lexer": "ipython3",
   "version": "3.10.8"
  }
 },
 "nbformat": 4,
 "nbformat_minor": 5
}
